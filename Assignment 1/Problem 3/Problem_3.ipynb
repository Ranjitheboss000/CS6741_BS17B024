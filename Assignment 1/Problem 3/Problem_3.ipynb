{
 "cells": [
  {
   "cell_type": "markdown",
   "metadata": {},
   "source": [
    "# Theoretical Probability of picking n Jacks (of any suit) when drawing 5 random cards"
   ]
  },
  {
   "cell_type": "markdown",
   "metadata": {},
   "source": [
    "###### Irrespective of whether picking happens with or without replacement, both processes share the following traits:\n",
    "     a fixed number of trials\n",
    "     two possible outcomes on each trial"
   ]
  },
  {
   "cell_type": "markdown",
   "metadata": {},
   "source": [
    "## With Replacement  \n",
    "### In the process of drawing 5 random cards from the deck with replacement, the probability of drawing Jack (of any suit) remains intact which paves way for the conclusion that this process follows Binomial distribution with success being defined as the event of obtaining a Jack (of any suit).\n",
    "#### P(n Jacks out of 5 randomly picked cards) = $\\binom{5}{n}\\frac{1}{13}^{n}\\frac{12}{13}^{(5-n)}$"
   ]
  },
  {
   "cell_type": "code",
   "execution_count": 11,
   "metadata": {},
   "outputs": [
    {
     "data": {
      "text/plain": [
       "p_r (generic function with 1 method)"
      ]
     },
     "execution_count": 11,
     "metadata": {},
     "output_type": "execute_result"
    }
   ],
   "source": [
    "function p_r(n::Int)\n",
    "    n >= 0 || error(\"n must be non-negative\")\n",
    "    binomial(5,n)*((1/13)^n)*((12/13)^(5-n))\n",
    "end"
   ]
  },
  {
   "cell_type": "code",
   "execution_count": 12,
   "metadata": {},
   "outputs": [],
   "source": [
    "theoretical_Prob_replacement = [p_r(i) for i = 0:5];"
   ]
  },
  {
   "cell_type": "code",
   "execution_count": 13,
   "metadata": {},
   "outputs": [
    {
     "name": "stdout",
     "output_type": "stream",
     "text": [
      "\n",
      "WITH REPLACEMENT\n",
      "\n",
      "Theoretical probability of picking 0 Jacks (of any suit) when drawing 5 random cards is 0.670176922268936\n",
      "Theoretical probability of picking 1 Jacks (of any suit) when drawing 5 random cards is 0.2792403842787234\n",
      "Theoretical probability of picking 2 Jacks (of any suit) when drawing 5 random cards is 0.046540064046453895\n",
      "Theoretical probability of picking 3 Jacks (of any suit) when drawing 5 random cards is 0.0038783386705378243\n",
      "Theoretical probability of picking 4 Jacks (of any suit) when drawing 5 random cards is 0.0001615974446057427\n",
      "Theoretical probability of picking 5 Jacks (of any suit) when drawing 5 random cards is 2.6932907434290447e-6\n"
     ]
    }
   ],
   "source": [
    "println(\"\\nWITH REPLACEMENT\\n\")\n",
    "for n = 1:6\n",
    "    println(\"Theoretical probability of picking $(n-1) Jacks (of any suit) when drawing 5 random cards is $(theoretical_Prob_replacement[n])\")\n",
    "end"
   ]
  },
  {
   "cell_type": "markdown",
   "metadata": {},
   "source": [
    "## Without Replacement  \n",
    "###### In the process of drawing 5 random cards from the deck without replacement if the card is not replaced after each draw, the probability of getting a Jack (of any suit) on the first draw is 1/13, but the probability of getting a Jack on the second draw is dependent on the outcome of the first draw. If the first draw resulted in a Jack, the probability of getting a Jack on the second draw is 3/51. If the first draw did not result in a Jack, the probability of getting a Jack on the second draw is 4/51. The hypergeometric distribution is used to model this situation. This is also why the hypergeometric distribution is referred to as the distribution that models sampling without replacement.\n",
    "## P(x,N,n,m) = $\\frac{\\binom{m}{x}\\binom{N-m}{n-x}}{\\binom{N}{n}}$\n",
    "\n",
    "where P(x,N,n,m) is the probability of exactly x successes (event of getting Jack of any suit) in a sample of n drawn from a population of N containing m successes.\n",
    "\n",
    "#### Appropriate values of x,N,n,m in our case are \n",
    "    x = any integer between 0 and 4\n",
    "    N = 52\n",
    "    n = 5\n",
    "    m = 4\n",
    "  \n",
    "    "
   ]
  },
  {
   "cell_type": "code",
   "execution_count": 6,
   "metadata": {},
   "outputs": [
    {
     "data": {
      "text/plain": [
       "p_wr (generic function with 1 method)"
      ]
     },
     "execution_count": 6,
     "metadata": {},
     "output_type": "execute_result"
    }
   ],
   "source": [
    "function p_wr(x::Int)\n",
    "    x >= 0 || error(\"n must be non-negative\")\n",
    "    x < 5 || error(\"n must not exceed 4\")\n",
    "    (binomial(4,x)*binomial(52-4,5-x))/(binomial(52,5))\n",
    "end"
   ]
  },
  {
   "cell_type": "code",
   "execution_count": 7,
   "metadata": {},
   "outputs": [],
   "source": [
    "theoretical_Prob_without_replacement= [p_wr(i) for i in 0:4];"
   ]
  },
  {
   "cell_type": "code",
   "execution_count": 8,
   "metadata": {},
   "outputs": [
    {
     "name": "stdout",
     "output_type": "stream",
     "text": [
      "\n",
      "WITHOUT REPLACEMENT\n",
      "\n",
      "Theoretical probability of picking 0 Jacks (of any suit) when drawing 5 random cards is 0.6588419983377967\n",
      "Theoretical probability of picking 1 Jacks (of any suit) when drawing 5 random cards is 0.2994736356080894\n",
      "Theoretical probability of picking 2 Jacks (of any suit) when drawing 5 random cards is 0.03992981808107859\n",
      "Theoretical probability of picking 3 Jacks (of any suit) when drawing 5 random cards is 0.0017360790470034167\n",
      "Theoretical probability of picking 4 Jacks (of any suit) when drawing 5 random cards is 1.846892603195124e-5\n"
     ]
    }
   ],
   "source": [
    "println(\"\\nWITHOUT REPLACEMENT\\n\")\n",
    "for n = 1:5\n",
    "    println(\"Theoretical probability of picking $(n-1) Jacks (of any suit) when drawing 5 random cards is $(theoretical_Prob_without_replacement[n])\")\n",
    "end"
   ]
  },
  {
   "cell_type": "code",
   "execution_count": null,
   "metadata": {},
   "outputs": [],
   "source": []
  }
 ],
 "metadata": {
  "kernelspec": {
   "display_name": "Julia 1.5.3",
   "language": "julia",
   "name": "julia-1.5"
  },
  "language_info": {
   "file_extension": ".jl",
   "mimetype": "application/julia",
   "name": "julia",
   "version": "1.5.3"
  }
 },
 "nbformat": 4,
 "nbformat_minor": 2
}
