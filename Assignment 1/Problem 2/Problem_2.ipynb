{
 "cells": [
  {
   "cell_type": "markdown",
   "metadata": {},
   "source": [
    "# Experimental Computation of probability of picking n Jacks (of any suit) when drawing 5 random cards"
   ]
  },
  {
   "cell_type": "markdown",
   "metadata": {},
   "source": [
    "## With Replacement"
   ]
  },
  {
   "cell_type": "code",
   "execution_count": 1,
   "metadata": {},
   "outputs": [],
   "source": [
    "using Random, Plots"
   ]
  },
  {
   "cell_type": "code",
   "execution_count": 2,
   "metadata": {},
   "outputs": [],
   "source": [
    "deck = [\"K♠\",\"Q♠\",\"J♠\",\"A♠\",\"2♠\",\"3♠\",\"4♠\",\"5♠\",\"6♠\",\"7♠\",\"8♠\",\"9♠\",\"10♠\",\n",
    "        \"K♥\",\"Q♥\",\"J♥\",\"A♥\",\"2♥\",\"3♥\",\"4♥\",\"5♥\",\"6♥\",\"7♥\",\"8♥\",\"9♥\",\"10♥\",\n",
    "        \"K♦\",\"Q♦\",\"J♦\",\"A♦\",\"2♦\",\"3♦\",\"4♦\",\"5♦\",\"6♦\",\"7♦\",\"8♦\",\"9♦\",\"10♦\",\n",
    "        \"K♣\",\"Q♣\",\"J♣\",\"A♣\",\"2♣\",\"3♣\",\"4♣\",\"5♣\",\"6♣\",\"7♣\",\"8♣\",\"9♣\",\"10♣\"];\n"
   ]
  },
  {
   "cell_type": "code",
   "execution_count": 3,
   "metadata": {},
   "outputs": [
    {
     "name": "stdout",
     "output_type": "stream",
     "text": [
      "stdin> 5\n"
     ]
    }
   ],
   "source": [
    "Random.seed!(0)\n",
    "N = 10^(parse(Int,readline()));"
   ]
  },
  {
   "cell_type": "code",
   "execution_count": 4,
   "metadata": {},
   "outputs": [],
   "source": [
    "experimental_replacement = [sum([sum([occursin(\"J\",rand(deck)) for i in 1:5])==n for i in 1:N])/N for n = 0:5];"
   ]
  },
  {
   "cell_type": "code",
   "execution_count": 5,
   "metadata": {},
   "outputs": [
    {
     "name": "stdout",
     "output_type": "stream",
     "text": [
      "\n",
      "WITH REPLACEMENT\n",
      "\n",
      "Experimentally computed probability of picking 0 Jacks (of any suit) when drawing 5 random cards is 0.66877\n",
      "Experimentally computed probability of picking 1 Jacks (of any suit) when drawing 5 random cards is 0.27779\n",
      "Experimentally computed probability of picking 2 Jacks (of any suit) when drawing 5 random cards is 0.04628\n",
      "Experimentally computed probability of picking 3 Jacks (of any suit) when drawing 5 random cards is 0.00397\n",
      "Experimentally computed probability of picking 4 Jacks (of any suit) when drawing 5 random cards is 0.00015\n",
      "Experimentally computed probability of picking 5 Jacks (of any suit) when drawing 5 random cards is 0.0\n"
     ]
    }
   ],
   "source": [
    "println(\"\\nWITH REPLACEMENT\\n\")\n",
    "for n = 1:6\n",
    "    println(\"Experimentally computed probability of picking $(n-1) Jacks (of any suit) when drawing 5 random cards is $(experimental_replacement[n])\")\n",
    "end"
   ]
  },
  {
   "cell_type": "markdown",
   "metadata": {},
   "source": [
    "## Without Replacement"
   ]
  },
  {
   "cell_type": "code",
   "execution_count": 6,
   "metadata": {},
   "outputs": [
    {
     "data": {
      "text/plain": [
       "exp_wr (generic function with 1 method)"
      ]
     },
     "execution_count": 6,
     "metadata": {},
     "output_type": "execute_result"
    }
   ],
   "source": [
    "function exp_wr(y)\n",
    "    counter = 0\n",
    "    for i in 1:N\n",
    "        temp_deck = copy(deck)\n",
    "        picked = []\n",
    "        counter_1 = 0\n",
    "        for i in 1:5\n",
    "            card = rand(temp_deck)\n",
    "            if occursin(\"J\",card)\n",
    "                counter_1 += 1\n",
    "            end\n",
    "            deleteat!(temp_deck, findfirst(x-> x == card, temp_deck))\n",
    "        end\n",
    "        if counter_1 == y\n",
    "            counter += 1\n",
    "        end\n",
    "    end\n",
    "    return counter/N\n",
    "end\n",
    "    \n"
   ]
  },
  {
   "cell_type": "code",
   "execution_count": 9,
   "metadata": {},
   "outputs": [
    {
     "data": {
      "text/plain": [
       "5-element Array{Float64,1}:\n",
       " 0.6573\n",
       " 0.29898\n",
       " 0.0394\n",
       " 0.00189\n",
       " 2.0e-5"
      ]
     },
     "execution_count": 9,
     "metadata": {},
     "output_type": "execute_result"
    }
   ],
   "source": [
    "experimental_without_replacement = [exp_wr(i) for i in 0:4]"
   ]
  },
  {
   "cell_type": "code",
   "execution_count": 10,
   "metadata": {},
   "outputs": [
    {
     "name": "stdout",
     "output_type": "stream",
     "text": [
      "\n",
      "WITHOUT REPLACEMENT\n",
      "\n",
      "Experimentally computated probability of picking 0 Jacks (of any suit) when drawing 5 random cards is 0.6573\n",
      "Experimentally computated probability of picking 1 Jacks (of any suit) when drawing 5 random cards is 0.29898\n",
      "Experimentally computated probability of picking 2 Jacks (of any suit) when drawing 5 random cards is 0.0394\n",
      "Experimentally computated probability of picking 3 Jacks (of any suit) when drawing 5 random cards is 0.00189\n",
      "Experimentally computated probability of picking 4 Jacks (of any suit) when drawing 5 random cards is 2.0e-5\n"
     ]
    }
   ],
   "source": [
    "println(\"\\nWITHOUT REPLACEMENT\\n\")\n",
    "for n = 1:5\n",
    "    println(\"Experimentally computated probability of picking $(n-1) Jacks (of any suit) when drawing 5 random cards is $(experimental_without_replacement[n])\")\n",
    "end"
   ]
  },
  {
   "cell_type": "code",
   "execution_count": null,
   "metadata": {},
   "outputs": [],
   "source": []
  }
 ],
 "metadata": {
  "kernelspec": {
   "display_name": "Julia 1.5.3",
   "language": "julia",
   "name": "julia-1.5"
  },
  "language_info": {
   "file_extension": ".jl",
   "mimetype": "application/julia",
   "name": "julia",
   "version": "1.5.3"
  }
 },
 "nbformat": 4,
 "nbformat_minor": 2
}
