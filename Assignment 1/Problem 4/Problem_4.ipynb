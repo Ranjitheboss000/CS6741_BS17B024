{
 "cells": [
  {
   "cell_type": "markdown",
   "metadata": {},
   "source": [
    "# The probability of a password getting stored in the database using simple probability theory\n",
    "\n",
    "Total number of characters allowed = $78$ which comprises of 26 UpperCase alphabets + 26 LowerCase alphabets + 10 Numericals                                                                + 16 Special Characters\n",
    "Length of the Password = $8$\n",
    "\n",
    "Total number of possible passwords with given constraints applied = <b>$78^{8}$</b>.\n",
    "\n",
    "When the hacker tries out random passwords, the entered password gets stored in the database when atleast two characters match with the actual password ie., <b>both position and value</b>.\n",
    "\n",
    "$P(Password\\;Getting\\;stored) = P(Atleast\\;two\\;characters\\;match) = 1 - P(Atmost\\;one\\;character \\;match)$ \\\n",
    "\\\n",
    "$P(Atmost\\;one\\;character \\;match)  = P(No \\ match) + P(Exactly \\ one \\ match)$ \\\n",
    "\\\n",
    "$P(No \\ match) = \\frac{77^{8}}{78^{8}}$ \n",
    "\n",
    "$P(Exactly\\ one\\ match) = \\frac{\\binom{8}{1}*77^{7}}{78^{8}}$\n",
    "#### $P(Password\\ Getting\\ stored) = 1 - ((\\frac{77}{78})^{8} + \\frac{\\binom{8}{1}*77^{7}}{78^{8}}$ ) =  $0.004371819702645663$\n",
    "\n"
   ]
  },
  {
   "cell_type": "code",
   "execution_count": 1,
   "metadata": {},
   "outputs": [
    {
     "name": "stdout",
     "output_type": "stream",
     "text": [
      "\n",
      "Probability of a password getting stored in the database using simple probability theory is 0.004371819702645663\n"
     ]
    }
   ],
   "source": [
    "k = (77/78)^8;\n",
    "println(\"\\nProbability of a password getting stored in the database using simple probability theory is $(1 - (k + (binomial(8,1)*k)/77))\")"
   ]
  },
  {
   "cell_type": "code",
   "execution_count": 2,
   "metadata": {},
   "outputs": [],
   "source": [
    "all_characters = [\"0\",\"1\",\"2\",\"3\",\"4\",\"5\",\"6\",\"7\",\"8\",\"9\",\n",
    "            \"a\", \"b\", \"c\", \"d\", \"e\", \"f\", \"g\", \"h\", \"i\", \"j\", \"k\", \"l\", \"m\", \"n\", \"o\", \"p\", \"q\", \"r\", \"s\", \"t\", \"u\", \"v\", \"w\", \"x\", \"y\", \"z\",\n",
    "            \"A\",\"B\",  \"C\",  \"D\" ,\"E\",  \"F\",  \"G\",  \"H\",\"I\",\"J\",\"K\",\"L\",\"M\",\"N\",\"O\",\"P\",\"Q\",\"R\",\"S\",\"T\",  \"U\" , \"V\",  \"W\" , \"X\",  \"Y\" , \"Z\",\n",
    "            \"~\", \"!\",\"@\",\"#\", \" \",\"%\",\"^\",\"&\",\"*\",\"(\",\")\",\"_\",\"+\",\"=\",\"-\",\"`\" ];"
   ]
  },
  {
   "cell_type": "code",
   "execution_count": 3,
   "metadata": {},
   "outputs": [],
   "source": [
    "using Random\n",
    "Random.seed!(0);"
   ]
  },
  {
   "cell_type": "code",
   "execution_count": 5,
   "metadata": {},
   "outputs": [
    {
     "name": "stdout",
     "output_type": "stream",
     "text": [
      "\n",
      "Probability of a password getting stored in the database using experimental method is 0.004475\n"
     ]
    }
   ],
   "source": [
    "password = [rand(all_characters) for _ = 1:8]\n",
    "coun = 0\n",
    "hacker_attempts = []\n",
    "N = 10^6\n",
    "for _ = 1:N\n",
    "    guess = [rand(all_characters) for _ = 1:8]\n",
    "    # Simulating Hacker's attempts wherein he won't make any repeating attempts\n",
    "    while guess in hacker_attempts\n",
    "        guess = [rand(all_characters) for _ = 1:8]\n",
    "    end\n",
    "    if sum([password[i]==guess[i] for i = 1:8]) >= 2\n",
    "        coun += 1 \n",
    "    end\n",
    "end \n",
    "println(\"\\nProbability of a password getting stored in the database using experimental method is $(coun/N)\")"
   ]
  },
  {
   "cell_type": "markdown",
   "metadata": {},
   "source": [
    "##### N,number of random password attempts is set to 1 million ie., $10^{6}$ \n",
    "###### Essentially the above experiment can be viewed as selecting a random set (comprising $10^{6}$ random password attempts) from the pool of  $\\binom{78^{8}}{10^{6}}$ such sets"
   ]
  }
 ],
 "metadata": {
  "kernelspec": {
   "display_name": "Julia 1.5.3",
   "language": "julia",
   "name": "julia-1.5"
  },
  "language_info": {
   "file_extension": ".jl",
   "mimetype": "application/julia",
   "name": "julia",
   "version": "1.5.3"
  }
 },
 "nbformat": 4,
 "nbformat_minor": 2
}
