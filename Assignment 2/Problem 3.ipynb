{
 "cells": [
  {
   "cell_type": "code",
   "execution_count": 212,
   "metadata": {},
   "outputs": [],
   "source": [
    "# Please install the following packages if not already installed\n",
    "\n",
    "# using Pkg\n",
    "# Pkg.add(\"DataFrames\")\n",
    "# Pkg.add(\"PrettyTables\")\n",
    "# Pkg.add(\"CSV\")\n",
    "# Pkg.add(\"Dates\")"
   ]
  },
  {
   "cell_type": "markdown",
   "metadata": {},
   "source": [
    "### I do agree the work below may appear redundant but very relevant given the objective of the assignment"
   ]
  },
  {
   "cell_type": "code",
   "execution_count": 2,
   "metadata": {},
   "outputs": [],
   "source": [
    "using DataFrames,CSV,Dates,PrettyTables"
   ]
  },
  {
   "cell_type": "code",
   "execution_count": 4,
   "metadata": {},
   "outputs": [],
   "source": [
    "# Please provide appropriate input argument for CSV.file()\n",
    "untidyData = DataFrame(CSV.File(\"billboard.csv\"));\n",
    "untidyData = sort!(select(untidyData, Not([\"date.peaked\",\"genre\"])));"
   ]
  },
  {
   "cell_type": "code",
   "execution_count": 5,
   "metadata": {},
   "outputs": [],
   "source": [
    "moltenData = DataFrame(year = Int[],artist = String[], time = Time[];track =String[],date = Date[], week = Int[],rank = String[]);\n",
    "for i = 1:317\n",
    "    for w in 1:76\n",
    "        if untidyData[i,w+5] !== \"NA\" && untidyData[i,w+5] !== missing\n",
    "            d = untidyData[i,\"date.entered\"] + Dates.Day(7*(w-1))\n",
    "            push!(moltenData,(2000,untidyData[i,\"artist.inverted\"],untidyData[i,:time],untidyData[i,:track],d,w,string(untidyData[i,w+5])))\n",
    "        end\n",
    "    end\n",
    "end"
   ]
  },
  {
   "cell_type": "code",
   "execution_count": 11,
   "metadata": {},
   "outputs": [
    {
     "name": "stdout",
     "output_type": "stream",
     "text": [
      "\u001b[1m5307×7 DataFrame\u001b[0m\n",
      "\u001b[1m year  \u001b[0m│\u001b[1m artist          \u001b[0m\u001b[1m time     \u001b[0m\u001b[1m track                             \u001b[0m\u001b[1m date       \u001b[0m\u001b[1m week  \u001b[0m\u001b[1m rank   \u001b[0m\n",
      "\u001b[90m Int64 \u001b[0m│\u001b[90m String          \u001b[0m\u001b[90m Time     \u001b[0m\u001b[90m String                            \u001b[0m\u001b[90m Date       \u001b[0m\u001b[90m Int64 \u001b[0m\u001b[90m String \u001b[0m\n",
      "───────┼─────────────────────────────────────────────────────────────────────────────────────────\n",
      "  2000 │ 2 Pac            04:22:00  Baby Don't Cry (Keep Ya Head Up …  2000-02-26      1  87\n",
      "  2000 │ 2 Pac            04:22:00  Baby Don't Cry (Keep Ya Head Up …  2000-03-04      2  82\n",
      "  2000 │ 2 Pac            04:22:00  Baby Don't Cry (Keep Ya Head Up …  2000-03-11      3  72\n",
      "  2000 │ 2 Pac            04:22:00  Baby Don't Cry (Keep Ya Head Up …  2000-03-18      4  77\n",
      "  2000 │ 2 Pac            04:22:00  Baby Don't Cry (Keep Ya Head Up …  2000-03-25      5  87\n",
      "  2000 │ 2 Pac            04:22:00  Baby Don't Cry (Keep Ya Head Up …  2000-04-01      6  94\n",
      "  2000 │ 2 Pac            04:22:00  Baby Don't Cry (Keep Ya Head Up …  2000-04-08      7  99\n",
      "  2000 │ 2Ge+her          03:15:00  The Hardest Part Of Breaking Up …  2000-09-02      1  91\n",
      "  2000 │ 2Ge+her          03:15:00  The Hardest Part Of Breaking Up …  2000-09-09      2  87\n",
      "  2000 │ 2Ge+her          03:15:00  The Hardest Part Of Breaking Up …  2000-09-16      3  92\n",
      "  2000 │ 3 Doors Down     03:53:00  Kryptonite                         2000-04-08      1  81\n",
      "   ⋮   │        ⋮            ⋮                      ⋮                      ⋮         ⋮      ⋮\n",
      "  2000 │ matchbox twenty  04:12:00  Bent                               2000-11-11     29  20\n",
      "  2000 │ matchbox twenty  04:12:00  Bent                               2000-11-18     30  24\n",
      "  2000 │ matchbox twenty  04:12:00  Bent                               2000-11-25     31  29\n",
      "  2000 │ matchbox twenty  04:12:00  Bent                               2000-12-02     32  28\n",
      "  2000 │ matchbox twenty  04:12:00  Bent                               2000-12-09     33  27\n",
      "  2000 │ matchbox twenty  04:12:00  Bent                               2000-12-16     34  30\n",
      "  2000 │ matchbox twenty  04:12:00  Bent                               2000-12-23     35  33\n",
      "  2000 │ matchbox twenty  04:12:00  Bent                               2000-12-30     36  37\n",
      "  2000 │ matchbox twenty  04:12:00  Bent                               2001-01-06     37  38\n",
      "  2000 │ matchbox twenty  04:12:00  Bent                               2001-01-13     38  38\n",
      "  2000 │ matchbox twenty  04:12:00  Bent                               2001-01-20     39  48\n",
      "\u001b[36m                                                                                5285 rows omitted\u001b[0m"
     ]
    }
   ],
   "source": [
    "show(moltenData, allcols=true,show_row_number = false)"
   ]
  },
  {
   "cell_type": "code",
   "execution_count": 8,
   "metadata": {},
   "outputs": [],
   "source": [
    "song = select(moltenData,:artist,:track,:time);\n",
    "\n",
    "insertcols!(song,       \n",
    "    1,                # insert as column 1\n",
    "    :id => 1:size(song)[1],   # populate as \"id\" with 1,2,3,..\n",
    "    makeunique=true);"
   ]
  },
  {
   "cell_type": "code",
   "execution_count": 10,
   "metadata": {},
   "outputs": [
    {
     "name": "stdout",
     "output_type": "stream",
     "text": [
      "\u001b[1m5307×4 DataFrame\u001b[0m\n",
      "\u001b[1m id    \u001b[0m│\u001b[1m artist          \u001b[0m\u001b[1m track                             \u001b[0m\u001b[1m time     \u001b[0m\n",
      "\u001b[90m Int64 \u001b[0m│\u001b[90m String          \u001b[0m\u001b[90m String                            \u001b[0m\u001b[90m Time     \u001b[0m\n",
      "───────┼──────────────────────────────────────────────────────────────\n",
      "     1 │ 2 Pac            Baby Don't Cry (Keep Ya Head Up …  04:22:00\n",
      "     2 │ 2 Pac            Baby Don't Cry (Keep Ya Head Up …  04:22:00\n",
      "     3 │ 2 Pac            Baby Don't Cry (Keep Ya Head Up …  04:22:00\n",
      "     4 │ 2 Pac            Baby Don't Cry (Keep Ya Head Up …  04:22:00\n",
      "     5 │ 2 Pac            Baby Don't Cry (Keep Ya Head Up …  04:22:00\n",
      "     6 │ 2 Pac            Baby Don't Cry (Keep Ya Head Up …  04:22:00\n",
      "     7 │ 2 Pac            Baby Don't Cry (Keep Ya Head Up …  04:22:00\n",
      "     8 │ 2Ge+her          The Hardest Part Of Breaking Up …  03:15:00\n",
      "     9 │ 2Ge+her          The Hardest Part Of Breaking Up …  03:15:00\n",
      "    10 │ 2Ge+her          The Hardest Part Of Breaking Up …  03:15:00\n",
      "    11 │ 3 Doors Down     Kryptonite                         03:53:00\n",
      "   ⋮   │        ⋮                         ⋮                     ⋮\n",
      "  5297 │ matchbox twenty  Bent                               04:12:00\n",
      "  5298 │ matchbox twenty  Bent                               04:12:00\n",
      "  5299 │ matchbox twenty  Bent                               04:12:00\n",
      "  5300 │ matchbox twenty  Bent                               04:12:00\n",
      "  5301 │ matchbox twenty  Bent                               04:12:00\n",
      "  5302 │ matchbox twenty  Bent                               04:12:00\n",
      "  5303 │ matchbox twenty  Bent                               04:12:00\n",
      "  5304 │ matchbox twenty  Bent                               04:12:00\n",
      "  5305 │ matchbox twenty  Bent                               04:12:00\n",
      "  5306 │ matchbox twenty  Bent                               04:12:00\n",
      "  5307 │ matchbox twenty  Bent                               04:12:00\n",
      "\u001b[36m                                                     5285 rows omitted\u001b[0m"
     ]
    }
   ],
   "source": [
    "show(song, allcols=true,show_row_number = false)"
   ]
  },
  {
   "cell_type": "code",
   "execution_count": 13,
   "metadata": {},
   "outputs": [],
   "source": [
    "id =[]\n",
    "n = 0\n",
    "for w in moltenData[:,:week]\n",
    "    if w == 1\n",
    "        n += 1\n",
    "    end\n",
    "    push!(id,n)   \n",
    "end"
   ]
  },
  {
   "cell_type": "code",
   "execution_count": 14,
   "metadata": {},
   "outputs": [],
   "source": [
    "rank = select(moltenData,:date,:rank);\n",
    "insertcols!(rank,1,:id => id,makeunique=true);\n",
    "rank[!,:id] = convert.(Int,rank[!,:id]);"
   ]
  },
  {
   "cell_type": "code",
   "execution_count": 16,
   "metadata": {},
   "outputs": [
    {
     "name": "stdout",
     "output_type": "stream",
     "text": [
      "\u001b[1m5307×3 DataFrame\u001b[0m\n",
      "\u001b[1m id    \u001b[0m│\u001b[1m date       \u001b[0m\u001b[1m rank   \u001b[0m\n",
      "\u001b[90m Int64 \u001b[0m│\u001b[90m Date       \u001b[0m\u001b[90m String \u001b[0m\n",
      "───────┼────────────────────\n",
      "     1 │ 2000-02-26  87\n",
      "     1 │ 2000-03-04  82\n",
      "     1 │ 2000-03-11  72\n",
      "     1 │ 2000-03-18  77\n",
      "     1 │ 2000-03-25  87\n",
      "     1 │ 2000-04-01  94\n",
      "     1 │ 2000-04-08  99\n",
      "     2 │ 2000-09-02  91\n",
      "     2 │ 2000-09-09  87\n",
      "     2 │ 2000-09-16  92\n",
      "     3 │ 2000-04-08  81\n",
      "   ⋮   │     ⋮         ⋮\n",
      "   317 │ 2000-11-18  24\n",
      "   317 │ 2000-11-25  29\n",
      "   317 │ 2000-12-02  28\n",
      "   317 │ 2000-12-09  27\n",
      "   317 │ 2000-12-16  30\n",
      "   317 │ 2000-12-23  33\n",
      "   317 │ 2000-12-30  37\n",
      "   317 │ 2001-01-06  38\n",
      "   317 │ 2001-01-13  38\n",
      "   317 │ 2001-01-20  48\n",
      "\u001b[36m           5286 rows omitted\u001b[0m"
     ]
    }
   ],
   "source": [
    "show(rank,show_row_number = false)"
   ]
  }
 ],
 "metadata": {
  "kernelspec": {
   "display_name": "Julia 1.5.3",
   "language": "julia",
   "name": "julia-1.5"
  },
  "language_info": {
   "file_extension": ".jl",
   "mimetype": "application/julia",
   "name": "julia",
   "version": "1.5.3"
  }
 },
 "nbformat": 4,
 "nbformat_minor": 2
}
