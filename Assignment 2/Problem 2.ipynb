{
 "cells": [
  {
   "cell_type": "code",
   "execution_count": 1,
   "metadata": {},
   "outputs": [],
   "source": [
    "using DataFrames,Dates,PrettyTables"
   ]
  },
  {
   "cell_type": "code",
   "execution_count": 2,
   "metadata": {
    "scrolled": true
   },
   "outputs": [],
   "source": [
    "untidyData = DataFrame(\n",
    "    id = repeat([\"MX17004\"],outer = 10),\n",
    "    year = repeat([\"2010\"],outer = 10),\n",
    "    month = repeat([1,2,3,4,5],inner = 2),\n",
    "    element = repeat([\"tmax\",\"tmin\"],inner = 5),\n",
    "    d1 = missings(10),\n",
    "    d2 = [missing,missing,27.3,14.4,missing,missing,missing,missing,29,14.6],\n",
    "    d3 = [missing,missing,27,14.6,missing,missing,28.8,14.2,missing,missing],\n",
    "    d4 = [30,16,missing,missing,27,14.6,missing,missing,29,14.6],\n",
    "    d5 = [24,13,26,15,missing,missing,missing,missing,missing,missing],\n",
    "    d6 = [missing,missing,missing,missing,missing,missing,23.5,15,28,18],\n",
    "    d7 = [missing,missing,missing,missing,27,16,26,13.9,missing,missing],\n",
    "    d8 = missings(10),\n",
    "    d9 = [missing,missing,27.3,14.4,missing,missing,missing,missing,29,14.6],\n",
    "    d10 = [missing,missing,27,14.6,missing,missing,28.8,14.2,missing,missing],\n",
    "    d11 = [30,16,missing,missing,27,14.6,missing,missing,29,14.6],\n",
    "    d12 = [24,13,26,15,missing,missing,missing,missing,missing,missing],\n",
    "    d13 = [missing,missing,missing,missing,missing,missing,23.5,15,28,18],\n",
    "    d14 = [missing,missing,missing,missing,27,16,26,13.9,missing,missing],\n",
    "    d15 = missings(10),\n",
    "    d16 = [missing,missing,27.3,14.4,missing,missing,missing,missing,29,14.6],\n",
    "    d17 = [missing,missing,27,14.6,missing,missing,28.8,14.2,missing,missing],\n",
    "    d18 = [30,16,missing,missing,27,14.6,missing,missing,29,14.6],\n",
    "    d19 = [24,13,26,15,missing,missing,missing,missing,missing,missing],\n",
    "    d20 = [missing,missing,missing,missing,missing,missing,23.5,15,28,18],\n",
    "    d21 = [missing,missing,missing,missing,27,16,26,13.9,missing,missing],\n",
    "    d22 = [missing,missing,27.3,14.4,missing,missing,missing,missing,29,14.6],\n",
    "    d23 = [missing,missing,27,14.6,missing,missing,28.8,14.2,missing,missing],\n",
    "    d24 = [30,16,missing,missing,27,14.6,missing,missing,29,14.6],\n",
    "    d25 = [24,13,26,15,missing,missing,missing,missing,missing,missing],\n",
    "    d26 = [missing,missing,missing,missing,missing,missing,23.5,15,28,18],\n",
    "    d27 = [missing,missing,missing,missing,27,16,26,13.9,missing,missing],\n",
    "    d28 = [30,16,missing,missing,27,14.6,missing,missing,29,14.6],\n",
    "    d29 = [24,13,missing,missing,26.3,14.4,missing,missing,missing,missing],\n",
    "    d30 = [missing,missing,missing,missing,missing,missing,missing,missing,missing,missing],\n",
    "    d31 = [missing,missing,missing,missing,missing,missing,missing,missing,missing,missing],\n",
    "\n",
    ");"
   ]
  },
  {
   "cell_type": "code",
   "execution_count": 6,
   "metadata": {},
   "outputs": [
    {
     "name": "stdout",
     "output_type": "stream",
     "text": [
      "\u001b[1m10×35 DataFrame\u001b[0m\n",
      "\u001b[1m Row \u001b[0m│\u001b[1m id      \u001b[0m\u001b[1m year   \u001b[0m\u001b[1m month \u001b[0m\u001b[1m element \u001b[0m\u001b[1m d1      \u001b[0m\u001b[1m d2        \u001b[0m\u001b[1m d3        \u001b[0m\u001b[1m d4     \u001b[0m ⋯\n",
      "\u001b[1m     \u001b[0m│\u001b[90m String  \u001b[0m\u001b[90m String \u001b[0m\u001b[90m Int64 \u001b[0m\u001b[90m String  \u001b[0m\u001b[90m Missing \u001b[0m\u001b[90m Float64?  \u001b[0m\u001b[90m Float64?  \u001b[0m\u001b[90m Float64\u001b[0m ⋯\n",
      "─────┼──────────────────────────────────────────────────────────────────────────\n",
      "   1 │ MX17004  2010        1  tmax    \u001b[90m missing \u001b[0m\u001b[90m missing   \u001b[0m\u001b[90m missing   \u001b[0m      30 ⋯\n",
      "   2 │ MX17004  2010        1  tmax    \u001b[90m missing \u001b[0m\u001b[90m missing   \u001b[0m\u001b[90m missing   \u001b[0m      16\n",
      "   3 │ MX17004  2010        2  tmax    \u001b[90m missing \u001b[0m      27.3       27.0 \u001b[90m missing\u001b[0m\n",
      "   4 │ MX17004  2010        2  tmax    \u001b[90m missing \u001b[0m      14.4       14.6 \u001b[90m missing\u001b[0m\n",
      "   5 │ MX17004  2010        3  tmax    \u001b[90m missing \u001b[0m\u001b[90m missing   \u001b[0m\u001b[90m missing   \u001b[0m      27 ⋯\n",
      "   6 │ MX17004  2010        3  tmin    \u001b[90m missing \u001b[0m\u001b[90m missing   \u001b[0m\u001b[90m missing   \u001b[0m      14\n",
      "   7 │ MX17004  2010        4  tmin    \u001b[90m missing \u001b[0m\u001b[90m missing   \u001b[0m      28.8 \u001b[90m missing\u001b[0m\n",
      "   8 │ MX17004  2010        4  tmin    \u001b[90m missing \u001b[0m\u001b[90m missing   \u001b[0m      14.2 \u001b[90m missing\u001b[0m\n",
      "   9 │ MX17004  2010        5  tmin    \u001b[90m missing \u001b[0m      29.0 \u001b[90m missing   \u001b[0m      29 ⋯\n",
      "  10 │ MX17004  2010        5  tmin    \u001b[90m missing \u001b[0m      14.6 \u001b[90m missing   \u001b[0m      14\n",
      "\u001b[36m                                                              28 columns omitted\u001b[0m"
     ]
    }
   ],
   "source": [
    "show(untidyData,allrows=true)"
   ]
  },
  {
   "cell_type": "code",
   "execution_count": 7,
   "metadata": {},
   "outputs": [],
   "source": [
    "days = names(untidyData)[5:35];\n",
    "dayD = Dict(d => untidyData[:,d].!== missing  for d in days);"
   ]
  },
  {
   "cell_type": "code",
   "execution_count": 8,
   "metadata": {},
   "outputs": [],
   "source": [
    "tidyData = DataFrame(id = String[],date = Date[],tmax = Float64[],tmin = Float64[]);\n",
    "\n",
    "for r = 1:2:9\n",
    "    for d = 1:31\n",
    "        if dayD[days[d]][r]\n",
    "            push!(tidyData,(\"MX17004\",Date(2010,(r+1)/2,d),untidyData[r,days[d]],untidyData[r+1,days[d]]))\n",
    "        end\n",
    "    end\n",
    "end\n"
   ]
  },
  {
   "cell_type": "code",
   "execution_count": 10,
   "metadata": {},
   "outputs": [
    {
     "name": "stdout",
     "output_type": "stream",
     "text": [
      "┌─────────┬────────────┬─────────┬─────────┐\n",
      "│\u001b[1m      id \u001b[0m│\u001b[1m       date \u001b[0m│\u001b[1m    tmax \u001b[0m│\u001b[1m    tmin \u001b[0m│\n",
      "│\u001b[90m  String \u001b[0m│\u001b[90m       Date \u001b[0m│\u001b[90m Float64 \u001b[0m│\u001b[90m Float64 \u001b[0m│\n",
      "├─────────┼────────────┼─────────┼─────────┤\n",
      "│ MX17004 │ 2010-01-04 │    30.0 │    16.0 │\n",
      "│ MX17004 │ 2010-01-05 │    24.0 │    13.0 │\n",
      "│ MX17004 │ 2010-01-11 │    30.0 │    16.0 │\n",
      "│ MX17004 │ 2010-01-12 │    24.0 │    13.0 │\n",
      "│ MX17004 │ 2010-01-18 │    30.0 │    16.0 │\n",
      "│ MX17004 │ 2010-01-19 │    24.0 │    13.0 │\n",
      "│ MX17004 │ 2010-01-24 │    30.0 │    16.0 │\n",
      "│ MX17004 │ 2010-01-25 │    24.0 │    13.0 │\n",
      "│ MX17004 │ 2010-01-28 │    30.0 │    16.0 │\n",
      "│ MX17004 │ 2010-01-29 │    24.0 │    13.0 │\n",
      "│ MX17004 │ 2010-02-02 │    27.3 │    14.4 │\n",
      "│ MX17004 │ 2010-02-03 │    27.0 │    14.6 │\n",
      "│ MX17004 │ 2010-02-05 │    26.0 │    15.0 │\n",
      "│ MX17004 │ 2010-02-09 │    27.3 │    14.4 │\n",
      "│ MX17004 │ 2010-02-10 │    27.0 │    14.6 │\n",
      "│ MX17004 │ 2010-02-12 │    26.0 │    15.0 │\n",
      "│ MX17004 │ 2010-02-16 │    27.3 │    14.4 │\n",
      "│ MX17004 │ 2010-02-17 │    27.0 │    14.6 │\n",
      "│ MX17004 │ 2010-02-19 │    26.0 │    15.0 │\n",
      "│ MX17004 │ 2010-02-22 │    27.3 │    14.4 │\n",
      "│ MX17004 │ 2010-02-23 │    27.0 │    14.6 │\n",
      "│ MX17004 │ 2010-02-25 │    26.0 │    15.0 │\n",
      "│ MX17004 │ 2010-03-04 │    27.0 │    14.6 │\n",
      "│ MX17004 │ 2010-03-07 │    27.0 │    16.0 │\n",
      "│ MX17004 │ 2010-03-11 │    27.0 │    14.6 │\n",
      "│ MX17004 │ 2010-03-14 │    27.0 │    16.0 │\n",
      "│ MX17004 │ 2010-03-18 │    27.0 │    14.6 │\n",
      "│ MX17004 │ 2010-03-21 │    27.0 │    16.0 │\n",
      "│ MX17004 │ 2010-03-24 │    27.0 │    14.6 │\n",
      "│ MX17004 │ 2010-03-27 │    27.0 │    16.0 │\n",
      "│ MX17004 │ 2010-03-28 │    27.0 │    14.6 │\n",
      "│ MX17004 │ 2010-03-29 │    26.3 │    14.4 │\n",
      "│ MX17004 │ 2010-04-03 │    28.8 │    14.2 │\n",
      "│ MX17004 │ 2010-04-06 │    23.5 │    15.0 │\n",
      "│ MX17004 │ 2010-04-07 │    26.0 │    13.9 │\n",
      "│ MX17004 │ 2010-04-10 │    28.8 │    14.2 │\n",
      "│ MX17004 │ 2010-04-13 │    23.5 │    15.0 │\n",
      "│ MX17004 │ 2010-04-14 │    26.0 │    13.9 │\n",
      "│ MX17004 │ 2010-04-17 │    28.8 │    14.2 │\n",
      "│ MX17004 │ 2010-04-20 │    23.5 │    15.0 │\n",
      "│ MX17004 │ 2010-04-21 │    26.0 │    13.9 │\n",
      "│ MX17004 │ 2010-04-23 │    28.8 │    14.2 │\n",
      "│ MX17004 │ 2010-04-26 │    23.5 │    15.0 │\n",
      "│ MX17004 │ 2010-04-27 │    26.0 │    13.9 │\n",
      "│ MX17004 │ 2010-05-02 │    29.0 │    14.6 │\n",
      "│ MX17004 │ 2010-05-04 │    29.0 │    14.6 │\n",
      "│ MX17004 │ 2010-05-06 │    28.0 │    18.0 │\n",
      "│ MX17004 │ 2010-05-09 │    29.0 │    14.6 │\n",
      "│ MX17004 │ 2010-05-11 │    29.0 │    14.6 │\n",
      "│ MX17004 │ 2010-05-13 │    28.0 │    18.0 │\n",
      "│ MX17004 │ 2010-05-16 │    29.0 │    14.6 │\n",
      "│ MX17004 │ 2010-05-18 │    29.0 │    14.6 │\n",
      "│ MX17004 │ 2010-05-20 │    28.0 │    18.0 │\n",
      "│ MX17004 │ 2010-05-22 │    29.0 │    14.6 │\n",
      "│ MX17004 │ 2010-05-24 │    29.0 │    14.6 │\n",
      "│ MX17004 │ 2010-05-26 │    28.0 │    18.0 │\n",
      "│ MX17004 │ 2010-05-28 │    29.0 │    14.6 │\n",
      "└─────────┴────────────┴─────────┴─────────┘\n"
     ]
    }
   ],
   "source": [
    "pretty_table(tidyData)"
   ]
  }
 ],
 "metadata": {
  "kernelspec": {
   "display_name": "Julia 1.5.3",
   "language": "julia",
   "name": "julia-1.5"
  },
  "language_info": {
   "file_extension": ".jl",
   "mimetype": "application/julia",
   "name": "julia",
   "version": "1.5.3"
  }
 },
 "nbformat": 4,
 "nbformat_minor": 2
}
