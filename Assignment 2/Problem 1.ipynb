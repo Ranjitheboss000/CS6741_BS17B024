{
 "cells": [
  {
   "cell_type": "code",
   "execution_count": 5,
   "metadata": {},
   "outputs": [],
   "source": [
    "using DataFrames,PrettyTables"
   ]
  },
  {
   "cell_type": "code",
   "execution_count": 2,
   "metadata": {},
   "outputs": [],
   "source": [
    "#Column headers are values, not variable names\n",
    "untidyData = DataFrame([ \n",
    "    :religion           => [\"Agnostic\",\"Atheist\",\"Buddhist\",\"Catholic\",\"Don't know/refused\",\"Evangelical Prot\",\"Hindu\",\"Historically Black Prot\",\"Jehovah's Witness\",\"Jewish\"], \n",
    "    Symbol(\"<\\$10k\")    => [27,12,27,418,15,575,1,228,20,19], \n",
    "    Symbol(\"\\$10-20k\")  => [34,27,21,617,14,869,9,244,27,19], \n",
    "    Symbol(\"\\$20-30k\")  => [60,37,30,732,15,1064,7,236,24,25],\n",
    "    Symbol(\"\\$30-40k\")  => [81,52,34,670,11,982,9,238,24,25],\n",
    "    Symbol(\"\\$40-50k\")  => [76,35,33,638,10,881,11,197,21,30],\n",
    "    Symbol(\"\\$50-75k\")  => [137,70,58,1116,35,1486,34,223,30,95],\n",
    "    Symbol(\"\\$75-100k\") => [27,12,27,418,15,575,1,228,20,19],\n",
    "    Symbol(\"\\$100-150k\")=> [34,27,21,617,14,869,9,244,27,19],\n",
    "    Symbol(\">\\$150k\")   => [81,52,34,670,11,982,9,238,24,25]\n",
    "]);"
   ]
  },
  {
   "cell_type": "code",
   "execution_count": 7,
   "metadata": {},
   "outputs": [
    {
     "name": "stdout",
     "output_type": "stream",
     "text": [
      "┌─────────────────────────┬───────┬─────────┬─────────┬─────────┬─────────┬─────────┬──────────┬───────────┬────────┐\n",
      "│\u001b[1m                religion \u001b[0m│\u001b[1m <$10k \u001b[0m│\u001b[1m $10-20k \u001b[0m│\u001b[1m $20-30k \u001b[0m│\u001b[1m $30-40k \u001b[0m│\u001b[1m $40-50k \u001b[0m│\u001b[1m $50-75k \u001b[0m│\u001b[1m $75-100k \u001b[0m│\u001b[1m $100-150k \u001b[0m│\u001b[1m >$150k \u001b[0m│\n",
      "│\u001b[90m                  String \u001b[0m│\u001b[90m Int64 \u001b[0m│\u001b[90m   Int64 \u001b[0m│\u001b[90m   Int64 \u001b[0m│\u001b[90m   Int64 \u001b[0m│\u001b[90m   Int64 \u001b[0m│\u001b[90m   Int64 \u001b[0m│\u001b[90m    Int64 \u001b[0m│\u001b[90m     Int64 \u001b[0m│\u001b[90m  Int64 \u001b[0m│\n",
      "├─────────────────────────┼───────┼─────────┼─────────┼─────────┼─────────┼─────────┼──────────┼───────────┼────────┤\n",
      "│                Agnostic │    27 │      34 │      60 │      81 │      76 │     137 │       27 │        34 │     81 │\n",
      "│                 Atheist │    12 │      27 │      37 │      52 │      35 │      70 │       12 │        27 │     52 │\n",
      "│                Buddhist │    27 │      21 │      30 │      34 │      33 │      58 │       27 │        21 │     34 │\n",
      "│                Catholic │   418 │     617 │     732 │     670 │     638 │    1116 │      418 │       617 │    670 │\n",
      "│      Don't know/refused │    15 │      14 │      15 │      11 │      10 │      35 │       15 │        14 │     11 │\n",
      "│        Evangelical Prot │   575 │     869 │    1064 │     982 │     881 │    1486 │      575 │       869 │    982 │\n",
      "│                   Hindu │     1 │       9 │       7 │       9 │      11 │      34 │        1 │         9 │      9 │\n",
      "│ Historically Black Prot │   228 │     244 │     236 │     238 │     197 │     223 │      228 │       244 │    238 │\n",
      "│       Jehovah's Witness │    20 │      27 │      24 │      24 │      21 │      30 │       20 │        27 │     24 │\n",
      "│                  Jewish │    19 │      19 │      25 │      25 │      30 │      95 │       19 │        19 │     25 │\n",
      "└─────────────────────────┴───────┴─────────┴─────────┴─────────┴─────────┴─────────┴──────────┴───────────┴────────┘\n"
     ]
    }
   ],
   "source": [
    "pretty_table(untidyData)"
   ]
  },
  {
   "cell_type": "code",
   "execution_count": 3,
   "metadata": {},
   "outputs": [],
   "source": [
    "#Melting untidyData with religion as the colvar\n",
    "\n",
    "tidyData = DataFrame(religion = String[],income = String[],freq = Int[]);\n",
    "inc_var = names(untidyData)[2:10];\n",
    "rel = untidyData[:,1];\n",
    "n = nrow(untidyData)\n",
    "m = length(inc_var)\n",
    "\n",
    "for i = 1:n\n",
    "    for j = 1:m\n",
    "        push!(tidyData,(untidyData[i,1],inc_var[j],untidyData[i,j+1]))\n",
    "    end\n",
    "end\n"
   ]
  },
  {
   "cell_type": "code",
   "execution_count": 8,
   "metadata": {},
   "outputs": [
    {
     "name": "stdout",
     "output_type": "stream",
     "text": [
      "┌─────────────────────────┬───────────┬───────┐\n",
      "│\u001b[1m                religion \u001b[0m│\u001b[1m    income \u001b[0m│\u001b[1m  freq \u001b[0m│\n",
      "│\u001b[90m                  String \u001b[0m│\u001b[90m    String \u001b[0m│\u001b[90m Int64 \u001b[0m│\n",
      "├─────────────────────────┼───────────┼───────┤\n",
      "│                Agnostic │     <$10k │    27 │\n",
      "│                Agnostic │   $10-20k │    34 │\n",
      "│                Agnostic │   $20-30k │    60 │\n",
      "│                Agnostic │   $30-40k │    81 │\n",
      "│                Agnostic │   $40-50k │    76 │\n",
      "│                Agnostic │   $50-75k │   137 │\n",
      "│                Agnostic │  $75-100k │    27 │\n",
      "│                Agnostic │ $100-150k │    34 │\n",
      "│                Agnostic │    >$150k │    81 │\n",
      "│                 Atheist │     <$10k │    12 │\n",
      "│                 Atheist │   $10-20k │    27 │\n",
      "│                 Atheist │   $20-30k │    37 │\n",
      "│                 Atheist │   $30-40k │    52 │\n",
      "│                 Atheist │   $40-50k │    35 │\n",
      "│                 Atheist │   $50-75k │    70 │\n",
      "│                 Atheist │  $75-100k │    12 │\n",
      "│                 Atheist │ $100-150k │    27 │\n",
      "│                 Atheist │    >$150k │    52 │\n",
      "│                Buddhist │     <$10k │    27 │\n",
      "│                Buddhist │   $10-20k │    21 │\n",
      "│                Buddhist │   $20-30k │    30 │\n",
      "│                Buddhist │   $30-40k │    34 │\n",
      "│                Buddhist │   $40-50k │    33 │\n",
      "│                Buddhist │   $50-75k │    58 │\n",
      "│                Buddhist │  $75-100k │    27 │\n",
      "│                Buddhist │ $100-150k │    21 │\n",
      "│                Buddhist │    >$150k │    34 │\n",
      "│                Catholic │     <$10k │   418 │\n",
      "│                Catholic │   $10-20k │   617 │\n",
      "│                Catholic │   $20-30k │   732 │\n",
      "│                Catholic │   $30-40k │   670 │\n",
      "│                Catholic │   $40-50k │   638 │\n",
      "│                Catholic │   $50-75k │  1116 │\n",
      "│                Catholic │  $75-100k │   418 │\n",
      "│                Catholic │ $100-150k │   617 │\n",
      "│                Catholic │    >$150k │   670 │\n",
      "│      Don't know/refused │     <$10k │    15 │\n",
      "│      Don't know/refused │   $10-20k │    14 │\n",
      "│      Don't know/refused │   $20-30k │    15 │\n",
      "│      Don't know/refused │   $30-40k │    11 │\n",
      "│      Don't know/refused │   $40-50k │    10 │\n",
      "│      Don't know/refused │   $50-75k │    35 │\n",
      "│      Don't know/refused │  $75-100k │    15 │\n",
      "│      Don't know/refused │ $100-150k │    14 │\n",
      "│      Don't know/refused │    >$150k │    11 │\n",
      "│        Evangelical Prot │     <$10k │   575 │\n",
      "│        Evangelical Prot │   $10-20k │   869 │\n",
      "│        Evangelical Prot │   $20-30k │  1064 │\n",
      "│        Evangelical Prot │   $30-40k │   982 │\n",
      "│        Evangelical Prot │   $40-50k │   881 │\n",
      "│        Evangelical Prot │   $50-75k │  1486 │\n",
      "│        Evangelical Prot │  $75-100k │   575 │\n",
      "│        Evangelical Prot │ $100-150k │   869 │\n",
      "│        Evangelical Prot │    >$150k │   982 │\n",
      "│                   Hindu │     <$10k │     1 │\n",
      "│                   Hindu │   $10-20k │     9 │\n",
      "│                   Hindu │   $20-30k │     7 │\n",
      "│                   Hindu │   $30-40k │     9 │\n",
      "│                   Hindu │   $40-50k │    11 │\n",
      "│                   Hindu │   $50-75k │    34 │\n",
      "│                   Hindu │  $75-100k │     1 │\n",
      "│                   Hindu │ $100-150k │     9 │\n",
      "│                   Hindu │    >$150k │     9 │\n",
      "│ Historically Black Prot │     <$10k │   228 │\n",
      "│ Historically Black Prot │   $10-20k │   244 │\n",
      "│ Historically Black Prot │   $20-30k │   236 │\n",
      "│ Historically Black Prot │   $30-40k │   238 │\n",
      "│ Historically Black Prot │   $40-50k │   197 │\n",
      "│ Historically Black Prot │   $50-75k │   223 │\n",
      "│ Historically Black Prot │  $75-100k │   228 │\n",
      "│ Historically Black Prot │ $100-150k │   244 │\n",
      "│ Historically Black Prot │    >$150k │   238 │\n",
      "│       Jehovah's Witness │     <$10k │    20 │\n",
      "│       Jehovah's Witness │   $10-20k │    27 │\n",
      "│       Jehovah's Witness │   $20-30k │    24 │\n",
      "│       Jehovah's Witness │   $30-40k │    24 │\n",
      "│       Jehovah's Witness │   $40-50k │    21 │\n",
      "│       Jehovah's Witness │   $50-75k │    30 │\n",
      "│       Jehovah's Witness │  $75-100k │    20 │\n",
      "│       Jehovah's Witness │ $100-150k │    27 │\n",
      "│       Jehovah's Witness │    >$150k │    24 │\n",
      "│                  Jewish │     <$10k │    19 │\n",
      "│                  Jewish │   $10-20k │    19 │\n",
      "│                  Jewish │   $20-30k │    25 │\n",
      "│                  Jewish │   $30-40k │    25 │\n",
      "│                  Jewish │   $40-50k │    30 │\n",
      "│                  Jewish │   $50-75k │    95 │\n",
      "│                  Jewish │  $75-100k │    19 │\n",
      "│                  Jewish │ $100-150k │    19 │\n",
      "│                  Jewish │    >$150k │    25 │\n",
      "└─────────────────────────┴───────────┴───────┘\n"
     ]
    }
   ],
   "source": [
    "pretty_table(tidyData)"
   ]
  },
  {
   "cell_type": "code",
   "execution_count": null,
   "metadata": {},
   "outputs": [],
   "source": []
  }
 ],
 "metadata": {
  "kernelspec": {
   "display_name": "Julia 1.5.3",
   "language": "julia",
   "name": "julia-1.5"
  },
  "language_info": {
   "file_extension": ".jl",
   "mimetype": "application/julia",
   "name": "julia",
   "version": "1.5.3"
  }
 },
 "nbformat": 4,
 "nbformat_minor": 2
}
